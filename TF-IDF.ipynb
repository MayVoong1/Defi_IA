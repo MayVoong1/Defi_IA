{
 "cells": [
  {
   "cell_type": "markdown",
   "metadata": {},
   "source": [
    "# Dataset & Libraries "
   ]
  },
  {
   "cell_type": "code",
   "execution_count": null,
   "metadata": {},
   "outputs": [],
   "source": [
    "import pandas as pd\n",
    "import pickle\n",
    "import matplotlib.pyplot as plt\n",
    "import re \n",
    "import nltk\n",
    "nltk.download('stopwords')\n",
    "from tqdm import tqdm\n",
    "import unicodedata\n",
    "import gensim\n",
    "import sklearn.model_selection as sms\n",
    "from sklearn.model_selection import GridSearchCV\n",
    "from sklearn.linear_model import LogisticRegression\n",
    "from sklearn.metrics import f1_score\n",
    "import numpy as np\n",
    "import time\n",
    "from sklearn.ensemble import RandomForestClassifier\n",
    "from sklearn.feature_extraction.text import TfidfVectorizer\n",
    "from sklearn.neural_network import MLPClassifier"
   ]
  },
  {
   "cell_type": "code",
   "execution_count": null,
   "metadata": {},
   "outputs": [],
   "source": [
    "train_df = pd.read_json(\"train.json\").set_index('Id')\n",
    "test_df = pd.read_json(\"test.json\").set_index('Id')\n",
    "train_label = pd.read_csv(\"train_label.csv\").set_index('Id')\n",
    "categories_df= pd.read_csv(\"categories_string.csv\")"
   ]
  },
  {
   "cell_type": "code",
   "execution_count": null,
   "metadata": {},
   "outputs": [],
   "source": [
    "data_train=pd.concat([train_df,train_label],axis=1)"
   ]
  },
  {
   "cell_type": "markdown",
   "metadata": {},
   "source": [
    "# I - Cleaning "
   ]
  },
  {
   "cell_type": "code",
   "execution_count": null,
   "metadata": {},
   "outputs": [],
   "source": [
    "from clean import CleanText\n",
    "ct = CleanText()"
   ]
  },
  {
   "cell_type": "code",
   "execution_count": null,
   "metadata": {},
   "outputs": [],
   "source": [
    "ct.clean_df_column(data_train, \"description\",\"description_cleaned\")"
   ]
  },
  {
   "cell_type": "code",
   "execution_count": null,
   "metadata": {},
   "outputs": [],
   "source": [
    "ct.clean_df_column(test_df, \"description\",\"description_cleaned\")"
   ]
  },
  {
   "cell_type": "markdown",
   "metadata": {},
   "source": [
    "# II - Vectorization: TF-IDF"
   ]
  },
  {
   "cell_type": "code",
   "execution_count": null,
   "metadata": {},
   "outputs": [],
   "source": [
    "datatrain, datavalid = sms.train_test_split(train_df, test_size=0.1, random_state=42)\n",
    "transformer = TfidfVectorizer().fit(datatrain[\"description_cleaned\"].values)\n",
    "print(\"NB features: %d\" %(len(transformer.vocabulary_)))\n",
    "X_train = transformer.transform(datatrain[\"description_cleaned\"].values)\n",
    "X_valid = transformer.transform(datavalid[\"description_cleaned\"].values)\n",
    "Y_train = datatrain.Category.values\n",
    "Y_valid = datavalid.Category.values\n",
    "X_train"
   ]
  },
  {
   "cell_type": "markdown",
   "metadata": {},
   "source": [
    "## Models"
   ]
  },
  {
   "cell_type": "markdown",
   "metadata": {},
   "source": [
    "### 1) Logistic regression"
   ]
  },
  {
   "cell_type": "code",
   "execution_count": null,
   "metadata": {},
   "outputs": [],
   "source": [
    "grid = {\"C\":[0.1, 1, 5,10]}\n",
    "logreg=LogisticRegression()\n",
    "logreg_cv=GridSearchCV(logreg,grid,cv=10,scoring=\"f1_macro\")\n",
    "start_time = time.time()\n",
    "logreg_cv.fit(X_train,Y_train)\n",
    "print(\"--- %s seconds ---\" % (time.time() - start_time))"
   ]
  },
  {
   "cell_type": "code",
   "execution_count": null,
   "metadata": {},
   "outputs": [],
   "source": [
    "lr_predictions = logreg_cv.predict(X_valid)\n",
    "f1_score(Y_valid,lr_predictions,average=\"macro\")"
   ]
  },
  {
   "cell_type": "markdown",
   "metadata": {},
   "source": [
    "### 2) MLP"
   ]
  },
  {
   "cell_type": "code",
   "execution_count": null,
   "metadata": {},
   "outputs": [],
   "source": [
    "mlp = MLPClassifier(hidden_layer_sizes=256,random_state=0)\n",
    "start_time = time.time()\n",
    "model_mlp=mlp.fit(X_train, Y_train)\n",
    "print(\"--- %s seconds ---\" % (time.time() - start_time))"
   ]
  },
  {
   "cell_type": "code",
   "execution_count": null,
   "metadata": {},
   "outputs": [],
   "source": [
    "predictions_mlp = model_mlp.predict(X_test)\n",
    "f1_score(Y_valid,prediction_mlp,average=\"macro\")"
   ]
  },
  {
   "cell_type": "markdown",
   "metadata": {},
   "source": [
    "### 3) Random Forest"
   ]
  },
  {
   "cell_type": "code",
   "execution_count": null,
   "metadata": {},
   "outputs": [],
   "source": [
    "param_grid = {\n",
    "'n_estimators': [500, 800]\n",
    "}\n",
    "\n",
    "rf=RandomForestClassifier(random_state=0)\n",
    "rf_grid_search = GridSearchCV(rf, param_grid = param_grid,\n",
    "cv = 3, n_jobs = -1, verbose = 2,scoring=\"f1_macro\")\n",
    "\n",
    "ts = time.time()\n",
    "rf_grid_search.fit(X_train,Y_train)\n",
    "te=time.time()\n",
    "temps=te-ts\n",
    "print(\"Time =\", temps)"
   ]
  },
  {
   "cell_type": "code",
   "execution_count": null,
   "metadata": {},
   "outputs": [],
   "source": [
    "predictions_rf = model_rf.predict(X_test)\n",
    "f1_score(Y_valid,prediction_rf,average=\"macro\")"
   ]
  }
 ],
 "metadata": {
  "colab": {
   "name": "Web_Scraping_inca.ipynb",
   "provenance": []
  },
  "kernelspec": {
   "display_name": "Python [conda env:myenv]",
   "language": "python",
   "name": "conda-env-myenv-py"
  },
  "language_info": {
   "codemirror_mode": {
    "name": "ipython",
    "version": 3
   },
   "file_extension": ".py",
   "mimetype": "text/x-python",
   "name": "python",
   "nbconvert_exporter": "python",
   "pygments_lexer": "ipython3",
   "version": "3.8.5"
  }
 },
 "nbformat": 4,
 "nbformat_minor": 1
}
